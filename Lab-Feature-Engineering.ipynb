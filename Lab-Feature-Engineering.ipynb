{
 "cells": [
  {
   "cell_type": "markdown",
   "id": "d9248bcf-167a-4489-ab17-f895fc5cf0bd",
   "metadata": {},
   "source": [
    "Jorge Castro DAPT NOV 2021"
   ]
  },
  {
   "cell_type": "markdown",
   "id": "46ea0fd3-e46f-473d-a426-201615874cee",
   "metadata": {},
   "source": [
    "## Lab | Feature engineering"
   ]
  },
  {
   "cell_type": "markdown",
   "id": "94787115-3dfc-4a16-a15c-b67f91e8f540",
   "metadata": {},
   "source": [
    "### Checking for null values in the numerical columns:"
   ]
  },
  {
   "cell_type": "code",
   "execution_count": 1,
   "id": "c2894300-1b93-49d3-bd2a-98c8daa6a6ef",
   "metadata": {},
   "outputs": [],
   "source": [
    "#Import Libraries\n",
    "import pandas as pd\n",
    "import numpy as np\n",
    "import matplotlib.pyplot as plt\n",
    "import seaborn as sns \n",
    "pd.set_option('display.max_columns', None)\n",
    "import warnings\n",
    "warnings.filterwarnings('ignore')\n",
    "pd.set_option('display.max_columns', None)"
   ]
  },
  {
   "cell_type": "code",
   "execution_count": 2,
   "id": "f8be1109-2030-4506-9c96-535a25dfb161",
   "metadata": {},
   "outputs": [],
   "source": [
    "data = pd.read_csv('learningSet.csv')"
   ]
  },
  {
   "cell_type": "markdown",
   "id": "a6b3ada5-7a4d-4989-b7e7-9c2fb4294b53",
   "metadata": {},
   "source": [
    "Let's get the Numerical and Categorical variables:"
   ]
  },
  {
   "cell_type": "code",
   "execution_count": 3,
   "id": "3dba1c56-17e1-4752-a7d4-338259f2d2e5",
   "metadata": {},
   "outputs": [],
   "source": [
    "numerical = data.select_dtypes(include=[np.number])\n",
    "categorical = data.select_dtypes(include=[object])"
   ]
  },
  {
   "cell_type": "code",
   "execution_count": 4,
   "id": "4066ac04-e305-4a12-b5e3-1f90ee39a939",
   "metadata": {},
   "outputs": [
    {
     "data": {
      "text/html": [
       "<div>\n",
       "<style scoped>\n",
       "    .dataframe tbody tr th:only-of-type {\n",
       "        vertical-align: middle;\n",
       "    }\n",
       "\n",
       "    .dataframe tbody tr th {\n",
       "        vertical-align: top;\n",
       "    }\n",
       "\n",
       "    .dataframe thead th {\n",
       "        text-align: right;\n",
       "    }\n",
       "</style>\n",
       "<table border=\"1\" class=\"dataframe\">\n",
       "  <thead>\n",
       "    <tr style=\"text-align: right;\">\n",
       "      <th></th>\n",
       "      <th>column_name</th>\n",
       "      <th>nulls_percentage</th>\n",
       "    </tr>\n",
       "  </thead>\n",
       "  <tbody>\n",
       "    <tr>\n",
       "      <th>0</th>\n",
       "      <td>ODATEDW</td>\n",
       "      <td>0.000000</td>\n",
       "    </tr>\n",
       "    <tr>\n",
       "      <th>1</th>\n",
       "      <td>TCODE</td>\n",
       "      <td>0.000000</td>\n",
       "    </tr>\n",
       "    <tr>\n",
       "      <th>2</th>\n",
       "      <td>DOB</td>\n",
       "      <td>0.000000</td>\n",
       "    </tr>\n",
       "    <tr>\n",
       "      <th>3</th>\n",
       "      <td>AGE</td>\n",
       "      <td>0.248030</td>\n",
       "    </tr>\n",
       "    <tr>\n",
       "      <th>4</th>\n",
       "      <td>NUMCHLD</td>\n",
       "      <td>0.870184</td>\n",
       "    </tr>\n",
       "    <tr>\n",
       "      <th>...</th>\n",
       "      <td>...</td>\n",
       "      <td>...</td>\n",
       "    </tr>\n",
       "    <tr>\n",
       "      <th>402</th>\n",
       "      <td>TARGET_B</td>\n",
       "      <td>0.000000</td>\n",
       "    </tr>\n",
       "    <tr>\n",
       "      <th>403</th>\n",
       "      <td>TARGET_D</td>\n",
       "      <td>0.000000</td>\n",
       "    </tr>\n",
       "    <tr>\n",
       "      <th>404</th>\n",
       "      <td>HPHONE_D</td>\n",
       "      <td>0.000000</td>\n",
       "    </tr>\n",
       "    <tr>\n",
       "      <th>405</th>\n",
       "      <td>RFA_2F</td>\n",
       "      <td>0.000000</td>\n",
       "    </tr>\n",
       "    <tr>\n",
       "      <th>406</th>\n",
       "      <td>CLUSTER2</td>\n",
       "      <td>0.001383</td>\n",
       "    </tr>\n",
       "  </tbody>\n",
       "</table>\n",
       "<p>407 rows × 2 columns</p>\n",
       "</div>"
      ],
      "text/plain": [
       "    column_name  nulls_percentage\n",
       "0       ODATEDW          0.000000\n",
       "1         TCODE          0.000000\n",
       "2           DOB          0.000000\n",
       "3           AGE          0.248030\n",
       "4       NUMCHLD          0.870184\n",
       "..          ...               ...\n",
       "402    TARGET_B          0.000000\n",
       "403    TARGET_D          0.000000\n",
       "404    HPHONE_D          0.000000\n",
       "405      RFA_2F          0.000000\n",
       "406    CLUSTER2          0.001383\n",
       "\n",
       "[407 rows x 2 columns]"
      ]
     },
     "execution_count": 4,
     "metadata": {},
     "output_type": "execute_result"
    }
   ],
   "source": [
    "num_nulls_percent_df = pd.DataFrame(numerical.isna().sum()/len(numerical)).reset_index()\n",
    "num_nulls_percent_df.columns = ['column_name', 'nulls_percentage']\n",
    "\n",
    "num_nulls_percent_df"
   ]
  },
  {
   "cell_type": "code",
   "execution_count": 5,
   "id": "d3f7304e-3368-4eb7-8819-b76c0e5e7a0a",
   "metadata": {},
   "outputs": [
    {
     "data": {
      "text/html": [
       "<div>\n",
       "<style scoped>\n",
       "    .dataframe tbody tr th:only-of-type {\n",
       "        vertical-align: middle;\n",
       "    }\n",
       "\n",
       "    .dataframe tbody tr th {\n",
       "        vertical-align: top;\n",
       "    }\n",
       "\n",
       "    .dataframe thead th {\n",
       "        text-align: right;\n",
       "    }\n",
       "</style>\n",
       "<table border=\"1\" class=\"dataframe\">\n",
       "  <thead>\n",
       "    <tr style=\"text-align: right;\">\n",
       "      <th></th>\n",
       "      <th>column_name</th>\n",
       "      <th>nulls_percentage</th>\n",
       "    </tr>\n",
       "  </thead>\n",
       "  <tbody>\n",
       "    <tr>\n",
       "      <th>0</th>\n",
       "      <td>ODATEDW</td>\n",
       "      <td>0.000000</td>\n",
       "    </tr>\n",
       "    <tr>\n",
       "      <th>1</th>\n",
       "      <td>TCODE</td>\n",
       "      <td>0.000000</td>\n",
       "    </tr>\n",
       "    <tr>\n",
       "      <th>2</th>\n",
       "      <td>DOB</td>\n",
       "      <td>0.000000</td>\n",
       "    </tr>\n",
       "    <tr>\n",
       "      <th>3</th>\n",
       "      <td>AGE</td>\n",
       "      <td>0.248030</td>\n",
       "    </tr>\n",
       "    <tr>\n",
       "      <th>4</th>\n",
       "      <td>NUMCHLD</td>\n",
       "      <td>0.870184</td>\n",
       "    </tr>\n",
       "    <tr>\n",
       "      <th>...</th>\n",
       "      <td>...</td>\n",
       "      <td>...</td>\n",
       "    </tr>\n",
       "    <tr>\n",
       "      <th>402</th>\n",
       "      <td>TARGET_B</td>\n",
       "      <td>0.000000</td>\n",
       "    </tr>\n",
       "    <tr>\n",
       "      <th>403</th>\n",
       "      <td>TARGET_D</td>\n",
       "      <td>0.000000</td>\n",
       "    </tr>\n",
       "    <tr>\n",
       "      <th>404</th>\n",
       "      <td>HPHONE_D</td>\n",
       "      <td>0.000000</td>\n",
       "    </tr>\n",
       "    <tr>\n",
       "      <th>405</th>\n",
       "      <td>RFA_2F</td>\n",
       "      <td>0.000000</td>\n",
       "    </tr>\n",
       "    <tr>\n",
       "      <th>406</th>\n",
       "      <td>CLUSTER2</td>\n",
       "      <td>0.001383</td>\n",
       "    </tr>\n",
       "  </tbody>\n",
       "</table>\n",
       "<p>407 rows × 2 columns</p>\n",
       "</div>"
      ],
      "text/plain": [
       "    column_name  nulls_percentage\n",
       "0       ODATEDW          0.000000\n",
       "1         TCODE          0.000000\n",
       "2           DOB          0.000000\n",
       "3           AGE          0.248030\n",
       "4       NUMCHLD          0.870184\n",
       "..          ...               ...\n",
       "402    TARGET_B          0.000000\n",
       "403    TARGET_D          0.000000\n",
       "404    HPHONE_D          0.000000\n",
       "405      RFA_2F          0.000000\n",
       "406    CLUSTER2          0.001383\n",
       "\n",
       "[407 rows x 2 columns]"
      ]
     },
     "execution_count": 5,
     "metadata": {},
     "output_type": "execute_result"
    }
   ],
   "source": [
    "cat_nulls_percent_df = pd.DataFrame(numerical.isna().sum()/len(numerical)).reset_index()\n",
    "cat_nulls_percent_df.columns = ['column_name', 'nulls_percentage']\n",
    "\n",
    "cat_nulls_percent_df"
   ]
  },
  {
   "cell_type": "markdown",
   "id": "4e3ce5e8-4d79-4d61-8f13-0bc93d4cee2e",
   "metadata": {},
   "source": [
    "### Use appropriate methods to clean the columns WEALTH1, ADI, DMA and MSA:"
   ]
  },
  {
   "cell_type": "markdown",
   "id": "b94cbac6-7ef4-47b8-8440-c594f63dda11",
   "metadata": {},
   "source": [
    "Filtering out the columns on the NaN DataFrame to get the % per variable:"
   ]
  },
  {
   "cell_type": "code",
   "execution_count": 6,
   "id": "3c013bb2-4605-469e-89f4-d41d9dcc18bd",
   "metadata": {},
   "outputs": [
    {
     "data": {
      "text/html": [
       "<div>\n",
       "<style scoped>\n",
       "    .dataframe tbody tr th:only-of-type {\n",
       "        vertical-align: middle;\n",
       "    }\n",
       "\n",
       "    .dataframe tbody tr th {\n",
       "        vertical-align: top;\n",
       "    }\n",
       "\n",
       "    .dataframe thead th {\n",
       "        text-align: right;\n",
       "    }\n",
       "</style>\n",
       "<table border=\"1\" class=\"dataframe\">\n",
       "  <thead>\n",
       "    <tr style=\"text-align: right;\">\n",
       "      <th></th>\n",
       "      <th>column_name</th>\n",
       "      <th>nulls_percentage</th>\n",
       "    </tr>\n",
       "  </thead>\n",
       "  <tbody>\n",
       "  </tbody>\n",
       "</table>\n",
       "</div>"
      ],
      "text/plain": [
       "Empty DataFrame\n",
       "Columns: [column_name, nulls_percentage]\n",
       "Index: []"
      ]
     },
     "execution_count": 6,
     "metadata": {},
     "output_type": "execute_result"
    }
   ],
   "source": [
    "num_nulls_percent_df[num_nulls_percent_df['column_name'].str.contains('GEOCODE')]"
   ]
  },
  {
   "cell_type": "code",
   "execution_count": 7,
   "id": "b141e1b2-4bd2-4d99-a3d7-e7bb9248ff16",
   "metadata": {},
   "outputs": [
    {
     "data": {
      "text/html": [
       "<div>\n",
       "<style scoped>\n",
       "    .dataframe tbody tr th:only-of-type {\n",
       "        vertical-align: middle;\n",
       "    }\n",
       "\n",
       "    .dataframe tbody tr th {\n",
       "        vertical-align: top;\n",
       "    }\n",
       "\n",
       "    .dataframe thead th {\n",
       "        text-align: right;\n",
       "    }\n",
       "</style>\n",
       "<table border=\"1\" class=\"dataframe\">\n",
       "  <thead>\n",
       "    <tr style=\"text-align: right;\">\n",
       "      <th></th>\n",
       "      <th>column_name</th>\n",
       "      <th>nulls_percentage</th>\n",
       "    </tr>\n",
       "  </thead>\n",
       "  <tbody>\n",
       "    <tr>\n",
       "      <th>6</th>\n",
       "      <td>WEALTH1</td>\n",
       "      <td>0.468830</td>\n",
       "    </tr>\n",
       "    <tr>\n",
       "      <th>150</th>\n",
       "      <td>MSA</td>\n",
       "      <td>0.001383</td>\n",
       "    </tr>\n",
       "    <tr>\n",
       "      <th>151</th>\n",
       "      <td>ADI</td>\n",
       "      <td>0.001383</td>\n",
       "    </tr>\n",
       "    <tr>\n",
       "      <th>152</th>\n",
       "      <td>DMA</td>\n",
       "      <td>0.001383</td>\n",
       "    </tr>\n",
       "  </tbody>\n",
       "</table>\n",
       "</div>"
      ],
      "text/plain": [
       "    column_name  nulls_percentage\n",
       "6       WEALTH1          0.468830\n",
       "150         MSA          0.001383\n",
       "151         ADI          0.001383\n",
       "152         DMA          0.001383"
      ]
     },
     "execution_count": 7,
     "metadata": {},
     "output_type": "execute_result"
    }
   ],
   "source": [
    "cat_nulls_percent_df[cat_nulls_percent_df['column_name'].isin(['WEALTH1', 'ADI', 'DMA', 'MSA'])]"
   ]
  },
  {
   "cell_type": "markdown",
   "id": "72c0a23e-0789-4c3a-ad72-9c9a8583dc9b",
   "metadata": {},
   "source": [
    "We can see that WEALTH1 has a high %\n",
    "of NaN. Let's have a look more deeply into this column:"
   ]
  },
  {
   "cell_type": "code",
   "execution_count": 8,
   "id": "da928a3b-0f21-417e-aaab-2be188dcf926",
   "metadata": {},
   "outputs": [
    {
     "data": {
      "text/plain": [
       "NaN    44732\n",
       "9.0     7585\n",
       "8.0     6793\n",
       "7.0     6198\n",
       "6.0     5825\n",
       "5.0     5280\n",
       "4.0     4810\n",
       "3.0     4237\n",
       "2.0     4085\n",
       "1.0     3454\n",
       "0.0     2413\n",
       "Name: WEALTH1, dtype: int64"
      ]
     },
     "execution_count": 8,
     "metadata": {},
     "output_type": "execute_result"
    }
   ],
   "source": [
    "#Let's check the value counts, including NaNs\n",
    "numerical['WEALTH1'].value_counts(dropna = False)"
   ]
  },
  {
   "cell_type": "markdown",
   "id": "2627c6ef-d58c-460d-98a4-a98236b44201",
   "metadata": {},
   "source": [
    "Making a plot to check the distribution:"
   ]
  },
  {
   "cell_type": "code",
   "execution_count": 9,
   "id": "89b1c683-b78f-4d58-9671-978efa9460b8",
   "metadata": {},
   "outputs": [
    {
     "data": {
      "image/png": "[encoded data removed]",
      "text/plain": [
       "<Figure size 432x288 with 1 Axes>"
      ]
     },
     "metadata": {
      "needs_background": "light"
     },
     "output_type": "display_data"
    }
   ],
   "source": [
    "sns.histplot(numerical[numerical['WEALTH1'].notna()]['WEALTH1'])\n",
    "plt.show()"
   ]
  },
  {
   "cell_type": "markdown",
   "id": "4d71cb38-b324-4eab-8a23-42e1eca10f98",
   "metadata": {},
   "source": [
    "This column looks more like a Categorical column, so for this reason, let's transform its values into strings and let's fill in the NaNs with the Mode:\n",
    "    "
   ]
  },
  {
   "cell_type": "code",
   "execution_count": 10,
   "id": "d5646ce4-d0a3-4fb0-a898-5748d250beb0",
   "metadata": {},
   "outputs": [],
   "source": [
    "#Finding the Mode of the column and storing it in a variable:\n",
    "m = numerical['WEALTH1'].mode()[0]\n",
    "\n",
    "#Replacing the NaN values for the Mode of the column:\n",
    "numerical['WEALTH1'] = numerical['WEALTH1'].fillna(m)"
   ]
  },
  {
   "cell_type": "markdown",
   "id": "5bc2724d-cf24-4b13-9fb1-d111f462f932",
   "metadata": {},
   "source": [
    "Checking ADI"
   ]
  },
  {
   "cell_type": "code",
   "execution_count": 11,
   "id": "5c64bea0-68c5-4afa-8c69-6d7566a835ce",
   "metadata": {},
   "outputs": [
    {
     "data": {
      "text/plain": [
       "132"
      ]
     },
     "execution_count": 11,
     "metadata": {},
     "output_type": "execute_result"
    }
   ],
   "source": [
    "numerical['ADI'].isna().sum()"
   ]
  },
  {
   "cell_type": "markdown",
   "id": "66b4f802-5891-4b38-96af-59f6a1c12804",
   "metadata": {},
   "source": [
    "The number of NaN is very low, we will plot the distribution in 3 different ways:\n",
    "- Original distribution, including NaN values\n",
    "- Distribution with NaN values replaced with Mean\n",
    "- Distribution with NaN values replaced with Median"
   ]
  },
  {
   "cell_type": "code",
   "execution_count": 12,
   "id": "7a2a8188-d57a-41d9-bb94-ebed57e535b0",
   "metadata": {},
   "outputs": [
    {
     "data": {
      "image/png": "[encoded data removed]",
      "text/plain": [
       "<Figure size 1152x360 with 3 Axes>"
      ]
     },
     "metadata": {
      "needs_background": "light"
     },
     "output_type": "display_data"
    }
   ],
   "source": [
    "fig, ax = plt.subplots(1,3,figsize=(16,5))\n",
    "sns.histplot(numerical['ADI'], ax = ax[0])\n",
    "sns.histplot(numerical[\"ADI\"].fillna(np.mean(numerical[numerical['ADI'].notna()]['ADI'])), ax = ax[1])\n",
    "sns.histplot(numerical['ADI'].fillna(np.median(numerical[numerical['ADI'].notna()]['ADI'])),ax = ax[2])\n",
    "plt.show()"
   ]
  },
  {
   "cell_type": "markdown",
   "id": "af536c90-ca93-4ef9-a6ae-832f2d31d7be",
   "metadata": {},
   "source": [
    "We can see that the distribution does not change much in any case, so we will apply the Mean on those NaNs:"
   ]
  },
  {
   "cell_type": "code",
   "execution_count": 13,
   "id": "d26e2dd1-7775-4b8b-a8a2-5129b3b266ae",
   "metadata": {},
   "outputs": [],
   "source": [
    "numerical['ADI'] = numerical[\"ADI\"].fillna(np.median(numerical['ADI']))"
   ]
  },
  {
   "cell_type": "raw",
   "id": "9ae3dd23-44d3-4f9a-a3a8-26011cd8a3f9",
   "metadata": {},
   "source": [
    "Since the other 2 remaining columns contain the same number of NaNs, we will replace their NaNs with their Mean:"
   ]
  },
  {
   "cell_type": "code",
   "execution_count": 14,
   "id": "1c6517ae-404f-4324-92f8-870c46c2509b",
   "metadata": {},
   "outputs": [],
   "source": [
    "numerical['DMA'] = numerical[\"DMA\"].fillna(np.median(numerical['DMA']))\n",
    "numerical['MSA'] = numerical[\"MSA\"].fillna(np.median(numerical['MSA']))"
   ]
  },
  {
   "cell_type": "code",
   "execution_count": null,
   "id": "d11a4bf5-867f-42ae-9dc3-a1a0674eca3f",
   "metadata": {},
   "outputs": [],
   "source": []
  }
 ],
 "metadata": {
  "kernelspec": {
   "display_name": "Python 3 (ipykernel)",
   "language": "python",
   "name": "python3"
  },
  "language_info": {
   "codemirror_mode": {
    "name": "ipython",
    "version": 3
   },
   "file_extension": ".py",
   "mimetype": "text/x-python",
   "name": "python",
   "nbconvert_exporter": "python",
   "pygments_lexer": "ipython3",
   "version": "3.8.12"
  }
 },
 "nbformat": 4,
 "nbformat_minor": 5
}
